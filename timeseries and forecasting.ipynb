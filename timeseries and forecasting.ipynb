{
 "cells": [
  {
   "cell_type": "code",
   "execution_count": 1,
   "metadata": {
    "colab": {
     "base_uri": "https://localhost:8080/"
    },
    "executionInfo": {
     "elapsed": 2677,
     "status": "ok",
     "timestamp": 1661669667706,
     "user": {
      "displayName": "Jayshree Das 4-Year B.Tech. Mining Engineering",
      "userId": "11972290592075587890"
     },
     "user_tz": -330
    },
    "id": "0hByMpCajl6n",
    "outputId": "f4580380-febd-4a7e-bdba-6ab87260969a"
   },
   "outputs": [
    {
     "name": "stdout",
     "output_type": "stream",
     "text": [
      "Requirement already satisfied: matplotlib in c:\\users\\public\\brijesh\\lib\\site-packages (3.3.4)\n",
      "Requirement already satisfied: kiwisolver>=1.0.1 in c:\\users\\public\\brijesh\\lib\\site-packages (from matplotlib) (1.3.1)\n",
      "Requirement already satisfied: cycler>=0.10 in c:\\users\\public\\brijesh\\lib\\site-packages (from matplotlib) (0.10.0)\n",
      "Requirement already satisfied: numpy>=1.15 in c:\\users\\public\\brijesh\\lib\\site-packages (from matplotlib) (1.20.1)\n",
      "Requirement already satisfied: python-dateutil>=2.1 in c:\\users\\public\\brijesh\\lib\\site-packages (from matplotlib) (2.8.1)\n",
      "Requirement already satisfied: pyparsing!=2.0.4,!=2.1.2,!=2.1.6,>=2.0.3 in c:\\users\\public\\brijesh\\lib\\site-packages (from matplotlib) (2.4.7)\n",
      "Requirement already satisfied: pillow>=6.2.0 in c:\\users\\public\\brijesh\\lib\\site-packages (from matplotlib) (8.2.0)\n",
      "Requirement already satisfied: six in c:\\users\\public\\brijesh\\lib\\site-packages (from cycler>=0.10->matplotlib) (1.15.0)\n",
      "Note: you may need to restart the kernel to use updated packages.\n"
     ]
    }
   ],
   "source": [
    "\n",
    "pip install matplotlib"
   ]
  },
  {
   "cell_type": "code",
   "execution_count": 2,
   "metadata": {
    "executionInfo": {
     "elapsed": 2,
     "status": "ok",
     "timestamp": 1661669678411,
     "user": {
      "displayName": "Jayshree Das 4-Year B.Tech. Mining Engineering",
      "userId": "11972290592075587890"
     },
     "user_tz": -330
    },
    "id": "UvWK4xL6jl6s"
   },
   "outputs": [],
   "source": [
    "import pandas as pd\n",
    "import numpy as np\n",
    "import matplotlib\n",
    "import matplotlib.pyplot as plt\n",
    "%matplotlib inline\n",
    "import warnings\n",
    "import itertools\n",
    "warnings.filterwarnings(\"ignore\")\n",
    "plt.style.use('fivethirtyeight')\n",
    "import statsmodels.api as sm\n",
    "\n",
    "\n"
   ]
  },
  {
   "cell_type": "code",
   "execution_count": null,
   "metadata": {
    "colab": {
     "base_uri": "https://localhost:8080/",
     "height": 345
    },
    "executionInfo": {
     "elapsed": 479,
     "status": "error",
     "timestamp": 1661669730451,
     "user": {
      "displayName": "Jayshree Das 4-Year B.Tech. Mining Engineering",
      "userId": "11972290592075587890"
     },
     "user_tz": -330
    },
    "id": "a4685nOwjl6t",
    "outputId": "98e483b3-4431-4b76-e71b-500512ca9d6d",
    "scrolled": true
   },
   "outputs": [],
   "source": [
    "df = pd.read_csv(\"SuperStore.csv\")\n",
    "df.head()\n"
   ]
  },
  {
   "cell_type": "code",
   "execution_count": null,
   "metadata": {
    "colab": {
     "base_uri": "https://localhost:8080/",
     "height": 165
    },
    "executionInfo": {
     "elapsed": 5,
     "status": "error",
     "timestamp": 1661669725473,
     "user": {
      "displayName": "Jayshree Das 4-Year B.Tech. Mining Engineering",
      "userId": "11972290592075587890"
     },
     "user_tz": -330
    },
    "id": "F1tzkEk1jl6t",
    "outputId": "cfb3e3c1-322a-4874-cca5-d88257cbcf20"
   },
   "outputs": [],
   "source": [
    "df.shape"
   ]
  },
  {
   "cell_type": "code",
   "execution_count": null,
   "metadata": {
    "id": "fYVfXR6jjl6u",
    "outputId": "ebf68fe4-321a-4199-9fc2-3b1bef2e9af3"
   },
   "outputs": [],
   "source": [
    "df.info()"
   ]
  },
  {
   "cell_type": "code",
   "execution_count": null,
   "metadata": {
    "id": "34_JvQnmjl6u",
    "outputId": "3b4a1245-de74-49ec-ca6f-571f796e7d9b"
   },
   "outputs": [],
   "source": [
    "df.describe()"
   ]
  },
  {
   "cell_type": "code",
   "execution_count": null,
   "metadata": {
    "id": "2_2EeXXjjl6v",
    "outputId": "fcaaa62f-160e-439c-c6a0-59c1578f788f"
   },
   "outputs": [],
   "source": [
    "df.isnull().sum()"
   ]
  },
  {
   "cell_type": "code",
   "execution_count": null,
   "metadata": {
    "id": "wmMrNyi6jl6v",
    "outputId": "4c8e9efe-b11d-4a26-8409-b559b0d15289"
   },
   "outputs": [],
   "source": [
    "furniture = df.loc[df['Category'] == 'Furniture']\n",
    "print(furniture)\n",
    "furniture.head()"
   ]
  },
  {
   "cell_type": "code",
   "execution_count": null,
   "metadata": {
    "colab": {
     "base_uri": "https://localhost:8080/",
     "height": 165
    },
    "executionInfo": {
     "elapsed": 506,
     "status": "error",
     "timestamp": 1661419217746,
     "user": {
      "displayName": "Durgesh Patil 19110147",
      "userId": "01653486505659764291"
     },
     "user_tz": -330
    },
    "id": "RD5JqEqSjl6w",
    "outputId": "f607b180-1b60-4070-8476-7214aecccb34"
   },
   "outputs": [],
   "source": [
    "furniture.shape"
   ]
  },
  {
   "cell_type": "code",
   "execution_count": null,
   "metadata": {
    "id": "On3BA7iTjl6w",
    "outputId": "237fb6e7-2550-4a1e-85b8-a2cfa8fc0008"
   },
   "outputs": [],
   "source": [
    "df['Category'].unique()"
   ]
  },
  {
   "cell_type": "code",
   "execution_count": null,
   "metadata": {
    "id": "NhXt2sVjjl6x",
    "outputId": "1b29e8fd-e4b1-4995-b5e8-313a54664aa6"
   },
   "outputs": [],
   "source": [
    "furniture['Order Date'].min(), furniture['Order Date'].max()\n"
   ]
  },
  {
   "cell_type": "markdown",
   "metadata": {
    "id": "N4HYUb6Ujl6x"
   },
   "source": [
    "# Data preprocessing (removing columns that we dont need)\n",
    "\n"
   ]
  },
  {
   "cell_type": "code",
   "execution_count": null,
   "metadata": {
    "id": "pTAVVvKkjl6z"
   },
   "outputs": [],
   "source": [
    "cols = ['Row ID', 'Order ID', 'Ship Date', 'Ship Mode', 'Customer ID', 'Customer Name', 'Segment', 'Country', 'City', 'State', 'Postal Code', 'Region', 'Product ID', 'Category', 'Sub-Category', 'Product Name', 'Quantity', 'Discount', 'Profit']\n",
    "furniture.drop(cols, axis=1, inplace=True)\n",
    "furniture = furniture.sort_values('Order Date')\n"
   ]
  },
  {
   "cell_type": "code",
   "execution_count": null,
   "metadata": {
    "id": "KUY16s0Rjl6z",
    "outputId": "469de052-0511-4ff9-bccc-dba0c90cb92e"
   },
   "outputs": [],
   "source": [
    "furniture.head(10)"
   ]
  },
  {
   "cell_type": "code",
   "execution_count": null,
   "metadata": {
    "id": "HwclTiIzjl6z"
   },
   "outputs": [],
   "source": [
    "furniture = furniture.groupby('Order Date')['Sales'].sum().reset_index()\n"
   ]
  },
  {
   "cell_type": "code",
   "execution_count": null,
   "metadata": {
    "id": "Z1v8Z7ISjl6z",
    "outputId": "620e66f3-b6a5-49ef-8344-9cb9e950d7f7"
   },
   "outputs": [],
   "source": [
    "furniture.head()"
   ]
  },
  {
   "cell_type": "markdown",
   "metadata": {
    "id": "CaZdVBoWjl60"
   },
   "source": [
    "# Indexing with time series data¶"
   ]
  },
  {
   "cell_type": "code",
   "execution_count": null,
   "metadata": {
    "id": "uzJCoIz_jl60",
    "outputId": "85330939-2c0c-4dae-c3f1-097e98351e4b"
   },
   "outputs": [],
   "source": [
    "furniture[\"Order Date\"] = pd.to_datetime(furniture[\"Order Date\"])\n",
    "furniture.set_index(\"Order Date\", inplace = True)\n",
    "furniture.index"
   ]
  },
  {
   "cell_type": "code",
   "execution_count": null,
   "metadata": {
    "id": "jef3RlYDjl60"
   },
   "outputs": [],
   "source": [
    "y = furniture['Sales'].resample('MS').mean()"
   ]
  },
  {
   "cell_type": "markdown",
   "metadata": {
    "id": "kYQzZ2Gxjl61"
   },
   "source": [
    "# Visualizing furniture sales time series data\n"
   ]
  },
  {
   "cell_type": "code",
   "execution_count": null,
   "metadata": {
    "id": "LHmIP5nZjl61",
    "outputId": "769c12d1-b4b2-46fc-e6fb-87c079760f7d"
   },
   "outputs": [],
   "source": [
    "\n",
    "y.plot()\n"
   ]
  },
  {
   "cell_type": "code",
   "execution_count": null,
   "metadata": {
    "id": "ZUL1PMaIjl61",
    "outputId": "44873171-7e2e-4706-cbad-8ed9baf6852e"
   },
   "outputs": [],
   "source": [
    "from pylab import rcParams\n",
    "rcParams['figure.figsize'] = 18, 8\n",
    "\n",
    "decomposition = sm.tsa.seasonal_decompose(y, model='additive')\n",
    "fig = decomposition.plot()"
   ]
  },
  {
   "cell_type": "code",
   "execution_count": null,
   "metadata": {
    "id": "XlknLXmHjl62"
   },
   "outputs": [],
   "source": [
    "from statsmodels.tsa.stattools import adfuller\n",
    "\n"
   ]
  },
  {
   "cell_type": "code",
   "execution_count": null,
   "metadata": {
    "id": "x9ooUpqBjl62"
   },
   "outputs": [],
   "source": [
    "dftest= adfuller(y, autolag='AIC')\n",
    "dfoutput= pd.Series(dftest[0:4], index=['ADF Test Statistic','p-value','#Lags Used','Number of Observations'])\n",
    "for key, value in dftest[4].items():\n",
    " dfoutput['critical value(%s)'%key]= value\n",
    "\n"
   ]
  },
  {
   "cell_type": "code",
   "execution_count": null,
   "metadata": {
    "id": "U0efP0uJjl62",
    "outputId": "b2f84b33-1498-4562-e37f-6e3b83f98b2e"
   },
   "outputs": [],
   "source": [
    "print(dfoutput)"
   ]
  },
  {
   "cell_type": "raw",
   "metadata": {
    "id": "yDhV6H79jl62"
   },
   "source": [
    "p value is less than 0.05 # then rejecting Null hypothesis= data is Stationary"
   ]
  },
  {
   "cell_type": "code",
   "execution_count": null,
   "metadata": {
    "id": "K-oqd07Njl62",
    "outputId": "6e346349-d925-4372-be5d-ef659d672006"
   },
   "outputs": [],
   "source": [
    "from statsmodels.graphics.tsaplots import plot_acf,plot_pacf\n",
    "import statsmodels.api as sm\n",
    "fig = plt.figure(figsize=(12,8))\n",
    "ax1 = fig.add_subplot(211)\n",
    "fig = sm.graphics.tsa.plot_acf(y,lags=40,ax=ax1)\n",
    "ax2 = fig.add_subplot(212)\n",
    "fig = sm.graphics.tsa.plot_pacf(y,lags=40,ax=ax2)"
   ]
  },
  {
   "cell_type": "markdown",
   "metadata": {
    "id": "6NVviy2Ijl63"
   },
   "source": [
    "from autocorrelation graph we can see that that p and q value that required for ARIMA MODEL IS \n",
    "***for Parameter P we see PACF GRAPH and the value is 1\n",
    "** for parameter q we see ACF graph and the value is 2 i.e the first time that drops to zero\n"
   ]
  },
  {
   "cell_type": "code",
   "execution_count": null,
   "metadata": {
    "id": "GTn4wBIkjl63"
   },
   "outputs": [],
   "source": [
    "import statsmodels.api as sm\n"
   ]
  },
  {
   "cell_type": "code",
   "execution_count": null,
   "metadata": {
    "id": "JHi3-Hs5jl63",
    "outputId": "9055beb9-6764-4e6a-ff10-888389b420ef"
   },
   "outputs": [],
   "source": [
    "\n",
    "mod = sm.tsa.statespace.SARIMAX(y,\n",
    "                                order=(3, 0, 2),\n",
    "                                seasonal_order=(1, 1, 1, 12),\n",
    "                                enforce_stationarity=False,\n",
    "                                enforce_invertibility=False)\n",
    "\n",
    "results = mod.fit()\n",
    "\n",
    "print(results.summary().tables[1])\n"
   ]
  },
  {
   "cell_type": "code",
   "execution_count": null,
   "metadata": {
    "id": "pUvSBjKKjl63",
    "outputId": "202aec48-61d6-47d5-b9d0-8a8d70deb537"
   },
   "outputs": [],
   "source": [
    "results.plot_diagnostics(figsize=(12, 10))\n",
    "plt.show()"
   ]
  },
  {
   "cell_type": "code",
   "execution_count": null,
   "metadata": {
    "id": "G1SebQFqjl63",
    "outputId": "438e8a4a-0d05-4eb3-bc87-9bdfaa0d2317"
   },
   "outputs": [],
   "source": [
    "pred = results.get_prediction(start=pd.to_datetime('2017-01-01'), dynamic=False)\n",
    "pred_ci = pred.conf_int()\n",
    "\n",
    "ax = y['2014':].plot(label='observed')\n",
    "pred.predicted_mean.plot(ax=ax, label='One-step ahead Forecast', alpha=.7, figsize=(14, 7))\n",
    "\n",
    "ax.fill_between(pred_ci.index,\n",
    "                pred_ci.iloc[:, 0],\n",
    "                pred_ci.iloc[:, 1], color='k', alpha=.2)\n",
    "\n",
    "ax.set_xlabel('Date')\n",
    "ax.set_ylabel('Furniture Sales')\n",
    "plt.legend()"
   ]
  },
  {
   "cell_type": "code",
   "execution_count": null,
   "metadata": {
    "id": "o0wzLcEkjl64",
    "outputId": "764e3a3a-8a1a-4f7e-9ce0-6fd09ccd5663"
   },
   "outputs": [],
   "source": [
    "y_forecasted = pred.predicted_mean\n",
    "y_truth = y['2017-01-01':]\n",
    "\n",
    "# Compute the mean square error\n",
    "mse = ((y_forecasted - y_truth) ** 2).mean()\n",
    "print('The Mean Squared Error of our forecasts is {}'.format(round(mse, 2)))"
   ]
  },
  {
   "cell_type": "code",
   "execution_count": null,
   "metadata": {
    "id": "-RwbotRDjl64",
    "outputId": "6a3ccd8c-88de-45cb-aa60-cf0206e40dd8"
   },
   "outputs": [],
   "source": [
    "print('The Root Mean Squared Error of our forecasts is {}'.format(round(np.sqrt(mse), 2)))"
   ]
  },
  {
   "cell_type": "code",
   "execution_count": null,
   "metadata": {
    "id": "lL67T4Pbjl64",
    "outputId": "e80917d7-9a50-429f-8ec9-c83820c42173"
   },
   "outputs": [],
   "source": [
    "pred_uc = results.get_forecast(steps=100)\n",
    "pred_ci = pred_uc.conf_int()\n",
    "\n",
    "ax = y.plot(label='observed', figsize=(14, 7))\n",
    "pred_uc.predicted_mean.plot(ax=ax, label='Forecast')\n",
    "ax.fill_between(pred_ci.index,\n",
    "                pred_ci.iloc[:, 0],\n",
    "                pred_ci.iloc[:, 1], color='k', alpha=.25)\n",
    "ax.set_xlabel('Date')\n",
    "ax.set_ylabel('Furniture Sales')\n",
    "\n",
    "plt.legend()\n",
    "plt.show()"
   ]
  },
  {
   "cell_type": "markdown",
   "metadata": {
    "id": "PRoFklq7jl64"
   },
   "source": [
    "# fb prophet"
   ]
  },
  {
   "cell_type": "code",
   "execution_count": null,
   "metadata": {
    "id": "VvsWRXnyjl65"
   },
   "outputs": [],
   "source": [
    "from fbprophet import Prophet\n",
    "furniture = furniture.rename(columns={'Order Date': 'ds', 'Sales': 'y'})\n",
    "furniture_model = Prophet(interval_width=0.95)\n",
    "furniture_model.fit(furniture)\n",
    "furniture_forecast = furniture_model.make_future_dataframe(periods=36, freq='MS')\n",
    "furniture_forecast = furniture_model.predict(furniture_forecast)\n",
    "plt.figure(figsize=(18, 6))\n",
    "furniture_model.plot(furniture_forecast, xlabel = 'Date', ylabel = 'Sales')\n",
    "plt.title('Furniture Sales');"
   ]
  },
  {
   "cell_type": "code",
   "execution_count": null,
   "metadata": {
    "id": "S_gndlYCjl65"
   },
   "outputs": [],
   "source": []
  },
  {
   "cell_type": "code",
   "execution_count": null,
   "metadata": {
    "id": "GddJ4AqPjl65"
   },
   "outputs": [],
   "source": []
  }
 ],
 "metadata": {
  "colab": {
   "name": "timeseries and forecasting.ipynb",
   "provenance": []
  },
  "kernelspec": {
   "display_name": "Python 3",
   "language": "python",
   "name": "python3"
  },
  "language_info": {
   "codemirror_mode": {
    "name": "ipython",
    "version": 3
   },
   "file_extension": ".py",
   "mimetype": "text/x-python",
   "name": "python",
   "nbconvert_exporter": "python",
   "pygments_lexer": "ipython3",
   "version": "3.8.8"
  }
 },
 "nbformat": 4,
 "nbformat_minor": 1
}
